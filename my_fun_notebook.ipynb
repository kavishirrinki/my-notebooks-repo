{
 "cells": [
  {
   "cell_type": "markdown",
   "id": "a9eaa314-aca0-4ad9-a28e-8a2bd11f9152",
   "metadata": {
    "tags": []
   },
   "source": [
    "This is my first fun notebook."
   ]
  },
  {
   "cell_type": "code",
   "execution_count": null,
   "id": "fcb48ce4-d136-4eca-b737-a54fd01a05d6",
   "metadata": {},
   "outputs": [],
   "source": []
  }
 ],
 "metadata": {
  "kernelspec": {
   "display_name": "Python 3.9",
   "language": "python",
   "name": "python3"
  },
  "language_info": {
   "codemirror_mode": {
    "name": "ipython",
    "version": 3
   },
   "file_extension": ".py",
   "mimetype": "text/x-python",
   "name": "python",
   "nbconvert_exporter": "python",
   "pygments_lexer": "ipython3",
   "version": "3.9.16"
  }
 },
 "nbformat": 4,
 "nbformat_minor": 5
}
